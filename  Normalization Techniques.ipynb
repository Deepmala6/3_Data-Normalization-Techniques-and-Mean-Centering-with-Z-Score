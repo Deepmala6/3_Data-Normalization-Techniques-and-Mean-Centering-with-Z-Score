{
 "cells": [
  {
   "cell_type": "code",
   "execution_count": 15,
   "id": "9e208858",
   "metadata": {},
   "outputs": [],
   "source": [
    "# This libary use for normalizationtechniques.\n",
    "import pandas as pd \n",
    "import numpy as np\n",
    "from sklearn.preprocessing import MinMaxScaler\n",
    "from sklearn.preprocessing import StandardScaler\n",
    "from sklearn.preprocessing import RobustScaler"
   ]
  },
  {
   "cell_type": "code",
   "execution_count": 16,
   "id": "8d37477b",
   "metadata": {},
   "outputs": [
    {
     "data": {
      "text/html": [
       "<div>\n",
       "<style scoped>\n",
       "    .dataframe tbody tr th:only-of-type {\n",
       "        vertical-align: middle;\n",
       "    }\n",
       "\n",
       "    .dataframe tbody tr th {\n",
       "        vertical-align: top;\n",
       "    }\n",
       "\n",
       "    .dataframe thead th {\n",
       "        text-align: right;\n",
       "    }\n",
       "</style>\n",
       "<table border=\"1\" class=\"dataframe\">\n",
       "  <thead>\n",
       "    <tr style=\"text-align: right;\">\n",
       "      <th></th>\n",
       "      <th>index</th>\n",
       "      <th>title</th>\n",
       "      <th>original_language</th>\n",
       "      <th>release_date</th>\n",
       "      <th>popularity</th>\n",
       "      <th>vote_average</th>\n",
       "      <th>vote_count</th>\n",
       "      <th>overview</th>\n",
       "    </tr>\n",
       "  </thead>\n",
       "  <tbody>\n",
       "    <tr>\n",
       "      <th>0</th>\n",
       "      <td>0</td>\n",
       "      <td>Spider-Man: Across the Spider-Verse</td>\n",
       "      <td>en</td>\n",
       "      <td>31-05-2023</td>\n",
       "      <td>3368.627</td>\n",
       "      <td>8.5</td>\n",
       "      <td>3386</td>\n",
       "      <td>After reuniting with Gwen Stacy, Brooklyn’s fu...</td>\n",
       "    </tr>\n",
       "    <tr>\n",
       "      <th>1</th>\n",
       "      <td>1</td>\n",
       "      <td>Transformers: Rise of the Beasts</td>\n",
       "      <td>en</td>\n",
       "      <td>06-06-2023</td>\n",
       "      <td>2160.316</td>\n",
       "      <td>7.5</td>\n",
       "      <td>2747</td>\n",
       "      <td>When a new threat capable of destroying the en...</td>\n",
       "    </tr>\n",
       "    <tr>\n",
       "      <th>2</th>\n",
       "      <td>2</td>\n",
       "      <td>The Flash</td>\n",
       "      <td>en</td>\n",
       "      <td>13-06-2023</td>\n",
       "      <td>2108.713</td>\n",
       "      <td>7.0</td>\n",
       "      <td>2305</td>\n",
       "      <td>When his attempt to save his family inadverten...</td>\n",
       "    </tr>\n",
       "    <tr>\n",
       "      <th>3</th>\n",
       "      <td>3</td>\n",
       "      <td>No Hard Feelings</td>\n",
       "      <td>en</td>\n",
       "      <td>15-06-2023</td>\n",
       "      <td>1978.358</td>\n",
       "      <td>7.1</td>\n",
       "      <td>562</td>\n",
       "      <td>On the brink of losing her childhood home, Mad...</td>\n",
       "    </tr>\n",
       "    <tr>\n",
       "      <th>4</th>\n",
       "      <td>4</td>\n",
       "      <td>Barbie</td>\n",
       "      <td>en</td>\n",
       "      <td>19-07-2023</td>\n",
       "      <td>1976.513</td>\n",
       "      <td>7.5</td>\n",
       "      <td>3013</td>\n",
       "      <td>Barbie and Ken are having the time of their li...</td>\n",
       "    </tr>\n",
       "  </tbody>\n",
       "</table>\n",
       "</div>"
      ],
      "text/plain": [
       "   index                                title original_language release_date  \\\n",
       "0      0  Spider-Man: Across the Spider-Verse                en   31-05-2023   \n",
       "1      1     Transformers: Rise of the Beasts                en   06-06-2023   \n",
       "2      2                            The Flash                en   13-06-2023   \n",
       "3      3                     No Hard Feelings                en   15-06-2023   \n",
       "4      4                               Barbie                en   19-07-2023   \n",
       "\n",
       "   popularity  vote_average  vote_count  \\\n",
       "0    3368.627           8.5        3386   \n",
       "1    2160.316           7.5        2747   \n",
       "2    2108.713           7.0        2305   \n",
       "3    1978.358           7.1         562   \n",
       "4    1976.513           7.5        3013   \n",
       "\n",
       "                                            overview  \n",
       "0  After reuniting with Gwen Stacy, Brooklyn’s fu...  \n",
       "1  When a new threat capable of destroying the en...  \n",
       "2  When his attempt to save his family inadverten...  \n",
       "3  On the brink of losing her childhood home, Mad...  \n",
       "4  Barbie and Ken are having the time of their li...  "
      ]
     },
     "execution_count": 16,
     "metadata": {},
     "output_type": "execute_result"
    }
   ],
   "source": [
    "df = pd.read_csv(\"C:\\\\Users\\\\deepm\\\\Downloads\\\\Movies_dataset.csv\\\\Movies_dataset.csv\")\n",
    "df.head()\n"
   ]
  },
  {
   "cell_type": "code",
   "execution_count": 17,
   "id": "3f7b5d41",
   "metadata": {},
   "outputs": [
    {
     "data": {
      "text/html": [
       "<div>\n",
       "<style scoped>\n",
       "    .dataframe tbody tr th:only-of-type {\n",
       "        vertical-align: middle;\n",
       "    }\n",
       "\n",
       "    .dataframe tbody tr th {\n",
       "        vertical-align: top;\n",
       "    }\n",
       "\n",
       "    .dataframe thead th {\n",
       "        text-align: right;\n",
       "    }\n",
       "</style>\n",
       "<table border=\"1\" class=\"dataframe\">\n",
       "  <thead>\n",
       "    <tr style=\"text-align: right;\">\n",
       "      <th></th>\n",
       "      <th>index</th>\n",
       "      <th>popularity</th>\n",
       "      <th>vote_average</th>\n",
       "      <th>vote_count</th>\n",
       "    </tr>\n",
       "  </thead>\n",
       "  <tbody>\n",
       "    <tr>\n",
       "      <th>count</th>\n",
       "      <td>10000.00000</td>\n",
       "      <td>10000.000000</td>\n",
       "      <td>10000.000000</td>\n",
       "      <td>10000.000000</td>\n",
       "    </tr>\n",
       "    <tr>\n",
       "      <th>mean</th>\n",
       "      <td>4999.50000</td>\n",
       "      <td>32.311563</td>\n",
       "      <td>6.319540</td>\n",
       "      <td>1560.626100</td>\n",
       "    </tr>\n",
       "    <tr>\n",
       "      <th>std</th>\n",
       "      <td>2886.89568</td>\n",
       "      <td>83.572929</td>\n",
       "      <td>1.465321</td>\n",
       "      <td>2915.806346</td>\n",
       "    </tr>\n",
       "    <tr>\n",
       "      <th>min</th>\n",
       "      <td>0.00000</td>\n",
       "      <td>8.128000</td>\n",
       "      <td>0.000000</td>\n",
       "      <td>0.000000</td>\n",
       "    </tr>\n",
       "    <tr>\n",
       "      <th>25%</th>\n",
       "      <td>2499.75000</td>\n",
       "      <td>14.931000</td>\n",
       "      <td>5.900000</td>\n",
       "      <td>136.000000</td>\n",
       "    </tr>\n",
       "    <tr>\n",
       "      <th>50%</th>\n",
       "      <td>4999.50000</td>\n",
       "      <td>19.240500</td>\n",
       "      <td>6.500000</td>\n",
       "      <td>510.000000</td>\n",
       "    </tr>\n",
       "    <tr>\n",
       "      <th>75%</th>\n",
       "      <td>7499.25000</td>\n",
       "      <td>28.886500</td>\n",
       "      <td>7.100000</td>\n",
       "      <td>1602.000000</td>\n",
       "    </tr>\n",
       "    <tr>\n",
       "      <th>max</th>\n",
       "      <td>9999.00000</td>\n",
       "      <td>3368.627000</td>\n",
       "      <td>10.000000</td>\n",
       "      <td>34245.000000</td>\n",
       "    </tr>\n",
       "  </tbody>\n",
       "</table>\n",
       "</div>"
      ],
      "text/plain": [
       "             index    popularity  vote_average    vote_count\n",
       "count  10000.00000  10000.000000  10000.000000  10000.000000\n",
       "mean    4999.50000     32.311563      6.319540   1560.626100\n",
       "std     2886.89568     83.572929      1.465321   2915.806346\n",
       "min        0.00000      8.128000      0.000000      0.000000\n",
       "25%     2499.75000     14.931000      5.900000    136.000000\n",
       "50%     4999.50000     19.240500      6.500000    510.000000\n",
       "75%     7499.25000     28.886500      7.100000   1602.000000\n",
       "max     9999.00000   3368.627000     10.000000  34245.000000"
      ]
     },
     "execution_count": 17,
     "metadata": {},
     "output_type": "execute_result"
    }
   ],
   "source": [
    "df.describe()"
   ]
  },
  {
   "cell_type": "code",
   "execution_count": 18,
   "id": "44e440a0",
   "metadata": {},
   "outputs": [
    {
     "data": {
      "text/plain": [
       "(10000, 8)"
      ]
     },
     "execution_count": 18,
     "metadata": {},
     "output_type": "execute_result"
    }
   ],
   "source": [
    "df.shape"
   ]
  },
  {
   "cell_type": "code",
   "execution_count": 19,
   "id": "4f11f5ad",
   "metadata": {},
   "outputs": [
    {
     "data": {
      "text/plain": [
       "index                 0\n",
       "title                 0\n",
       "original_language     0\n",
       "release_date         18\n",
       "popularity            0\n",
       "vote_average          0\n",
       "vote_count            0\n",
       "overview             95\n",
       "dtype: int64"
      ]
     },
     "execution_count": 19,
     "metadata": {},
     "output_type": "execute_result"
    }
   ],
   "source": [
    "df.isna().sum()"
   ]
  },
  {
   "cell_type": "code",
   "execution_count": 20,
   "id": "846a3490",
   "metadata": {},
   "outputs": [
    {
     "data": {
      "text/plain": [
       "index                0\n",
       "title                0\n",
       "original_language    0\n",
       "release_date         0\n",
       "popularity           0\n",
       "vote_average         0\n",
       "vote_count           0\n",
       "overview             0\n",
       "dtype: int64"
      ]
     },
     "execution_count": 20,
     "metadata": {},
     "output_type": "execute_result"
    }
   ],
   "source": [
    "# 1. Fill missing 'release_date' with a default value.\n",
    "df['release_date'].fillna('01-01-2023', inplace=True)\n",
    "\n",
    "# 2. Fill missing 'overview' with a default message.\n",
    "df['overview'].fillna('No overview available', inplace=True)\n",
    "df.isna().sum()"
   ]
  },
  {
   "cell_type": "code",
   "execution_count": 22,
   "id": "ba664e53",
   "metadata": {},
   "outputs": [],
   "source": [
    "# Min -Max Normalization"
   ]
  },
  {
   "cell_type": "code",
   "execution_count": 24,
   "id": "09e7f319",
   "metadata": {},
   "outputs": [
    {
     "name": "stdout",
     "output_type": "stream",
     "text": [
      "Min-Max Normalized Data: \n",
      "\n",
      "      popularity  vote_average  vote_count\n",
      "0       1.000000          0.85    0.098876\n",
      "1       0.640437          0.75    0.080216\n",
      "2       0.625081          0.70    0.067309\n",
      "3       0.586291          0.71    0.016411\n",
      "4       0.585742          0.75    0.087984\n",
      "...          ...           ...         ...\n",
      "9995    0.001336          0.57    0.007972\n",
      "9996    0.001336          0.80    0.012469\n",
      "9997    0.001335          0.62    0.012936\n",
      "9998    0.001335          0.73    0.011797\n",
      "9999    0.001335          0.73    0.005636\n",
      "\n",
      "[10000 rows x 3 columns]\n"
     ]
    }
   ],
   "source": [
    "# Select the columns to normalize\n",
    "columns_to_normalize = ['popularity', 'vote_average', 'vote_count']\n",
    "\n",
    "# Initialize the MinMaxScaler\n",
    "scaler = MinMaxScaler()\n",
    "\n",
    "# Apply Min-Max normalization\n",
    "df[columns_to_normalize] = scaler.fit_transform(df[columns_to_normalize])\n",
    "\n",
    "print(\"Min-Max Normalized Data: \\n\")\n",
    "print(df[columns_to_normalize])"
   ]
  },
  {
   "cell_type": "code",
   "execution_count": 25,
   "id": "64badd60",
   "metadata": {},
   "outputs": [
    {
     "name": "stdout",
     "output_type": "stream",
     "text": [
      "Z-Score Standardized Data: \n",
      "\n",
      "      popularity  vote_average  vote_count\n",
      "0      39.923003      1.488117    0.626058\n",
      "1      25.464117      0.805638    0.406897\n",
      "2      24.846626      0.464399    0.255302\n",
      "3      23.286772      0.532647   -0.342504\n",
      "4      23.264694      0.805638    0.498129\n",
      "...          ...           ...         ...\n",
      "9995   -0.235669     -0.422823   -0.441624\n",
      "9996   -0.235669      1.146877   -0.388806\n",
      "9997   -0.235693     -0.081583   -0.383318\n",
      "9998   -0.235705      0.669143   -0.396694\n",
      "9999   -0.235717      0.669143   -0.469062\n",
      "\n",
      "[10000 rows x 3 columns]\n"
     ]
    }
   ],
   "source": [
    "#2. Z-Score Standardization:\n",
    "\n",
    "# Initialize the StandardScaler\n",
    "scaler = StandardScaler()\n",
    "\n",
    "# Apply Z-score standardization\n",
    "df[columns_to_normalize] = scaler.fit_transform(df[columns_to_normalize])\n",
    "\n",
    "print(\"Z-Score Standardized Data: \\n\")\n",
    "print(df[columns_to_normalize])\n"
   ]
  },
  {
   "cell_type": "code",
   "execution_count": 26,
   "id": "928b8902",
   "metadata": {},
   "outputs": [
    {
     "name": "stdout",
     "output_type": "stream",
     "text": [
      "Robust Scaled Data: \n",
      "\n",
      "      popularity  vote_average  vote_count\n",
      "0     240.004765      1.666667    1.961801\n",
      "1     153.421626      0.833333    1.525921\n",
      "2     149.723944      0.416667    1.224420\n",
      "3     140.383182      0.500000    0.035471\n",
      "4     140.250976      0.833333    1.707367\n",
      "...          ...           ...         ...\n",
      "9995   -0.474616     -0.666667   -0.161664\n",
      "9996   -0.474616      1.250000   -0.056617\n",
      "9997   -0.474759     -0.250000   -0.045703\n",
      "9998   -0.474831      0.666667   -0.072306\n",
      "9999   -0.474902      0.666667   -0.216235\n",
      "\n",
      "[10000 rows x 3 columns]\n"
     ]
    }
   ],
   "source": [
    "# Robust Scaling:-----\n",
    "\n",
    "# Initialize the RobustScaler\n",
    "scaler = RobustScaler()\n",
    "\n",
    "# Apply Robust scaling\n",
    "df[columns_to_normalize] = scaler.fit_transform(df[columns_to_normalize])\n",
    "\n",
    "print(\"Robust Scaled Data: \\n\")\n",
    "print(df[columns_to_normalize])"
   ]
  },
  {
   "cell_type": "code",
   "execution_count": 27,
   "id": "af6fae5f",
   "metadata": {},
   "outputs": [
    {
     "name": "stdout",
     "output_type": "stream",
     "text": [
      "Decimal Scaled Data: \n",
      "\n",
      "      popularity  vote_average  vote_count\n",
      "0       0.240005      0.166667    0.019618\n",
      "1       0.153422      0.083333    0.015259\n",
      "2       0.149724      0.041667    0.012244\n",
      "3       0.140383      0.050000    0.000355\n",
      "4       0.140251      0.083333    0.017074\n",
      "...          ...           ...         ...\n",
      "9995   -0.000475     -0.066667   -0.001617\n",
      "9996   -0.000475      0.125000   -0.000566\n",
      "9997   -0.000475     -0.025000   -0.000457\n",
      "9998   -0.000475      0.066667   -0.000723\n",
      "9999   -0.000475      0.066667   -0.002162\n",
      "\n",
      "[10000 rows x 3 columns]\n"
     ]
    }
   ],
   "source": [
    "# 4. Decimal Scaling:----\n",
    "\n",
    "# Select the columns to normalize\n",
    "columns_to_normalize = ['popularity', 'vote_average', 'vote_count']\n",
    "\n",
    "# Apply Decimal Scaling\n",
    "df[columns_to_normalize] = df[columns_to_normalize] / 10**np.ceil(np.log10(df[columns_to_normalize].abs().max()))\n",
    "\n",
    "print(\"Decimal Scaled Data: \\n\")\n",
    "print(df[columns_to_normalize])"
   ]
  },
  {
   "cell_type": "code",
   "execution_count": null,
   "id": "0586ca36",
   "metadata": {},
   "outputs": [],
   "source": []
  }
 ],
 "metadata": {
  "kernelspec": {
   "display_name": "Python 3 (ipykernel)",
   "language": "python",
   "name": "python3"
  },
  "language_info": {
   "codemirror_mode": {
    "name": "ipython",
    "version": 3
   },
   "file_extension": ".py",
   "mimetype": "text/x-python",
   "name": "python",
   "nbconvert_exporter": "python",
   "pygments_lexer": "ipython3",
   "version": "3.11.5"
  }
 },
 "nbformat": 4,
 "nbformat_minor": 5
}
